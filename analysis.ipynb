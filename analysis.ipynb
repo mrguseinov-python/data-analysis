{
 "cells": [
  {
   "cell_type": "markdown",
   "id": "green-swaziland",
   "metadata": {},
   "source": [
    "Based on the [A Beginner's Guide to Data Analysis in Python](https://towardsdatascience.com/a-beginners-guide-to-data-analysis-in-python-188706df5447) article and the [Pima Indian Diabetes Database](https://www.kaggle.com/uciml/pima-indians-diabetes-database) dataset."
   ]
  },
  {
   "cell_type": "code",
   "execution_count": null,
   "id": "consecutive-administration",
   "metadata": {},
   "outputs": [],
   "source": [
    "%reset -f"
   ]
  },
  {
   "cell_type": "markdown",
   "id": "geological-scenario",
   "metadata": {},
   "source": [
    "### Data Analysis\n",
    "\n",
    "A process of cleaning, transforming, and modeling data with the goal of discovering useful information, informing conclusions, and supporting decision-making."
   ]
  },
  {
   "cell_type": "markdown",
   "id": "fluid-peripheral",
   "metadata": {},
   "source": [
    "### Read the Data\n",
    "\n",
    "Read the `diabetes.csv` file and print the first few lines."
   ]
  },
  {
   "cell_type": "code",
   "execution_count": null,
   "id": "driving-begin",
   "metadata": {},
   "outputs": [],
   "source": [
    "import pandas as pd\n",
    "\n",
    "df = pd.read_csv(\"diabetes.csv\")\n",
    "df.head()"
   ]
  },
  {
   "cell_type": "markdown",
   "id": "silver-explorer",
   "metadata": {},
   "source": [
    "### Pandas Profiling\n",
    "\n",
    "Generate a report on the data to better understand the variables and correlations between them. Once the report is complete, open `report.html` in a new browser tab."
   ]
  },
  {
   "cell_type": "code",
   "execution_count": null,
   "id": "liquid-nancy",
   "metadata": {},
   "outputs": [],
   "source": [
    "from pandas_profiling import ProfileReport\n",
    "\n",
    "profile = ProfileReport(df)\n",
    "profile.to_file(\"report.html\")"
   ]
  },
  {
   "cell_type": "markdown",
   "id": "interpreted-morocco",
   "metadata": {},
   "source": [
    "### More Visualization\n",
    "\n",
    "Visualize the `Outcome` and `Age` variables using a boxplot to see if there is any correlation between them."
   ]
  },
  {
   "cell_type": "code",
   "execution_count": null,
   "id": "optical-celebrity",
   "metadata": {},
   "outputs": [],
   "source": [
    "import seaborn as sns\n",
    "\n",
    "plot = sns.boxplot(x=\"Outcome\", y=\"Age\", data=df, fliersize=4)"
   ]
  },
  {
   "cell_type": "markdown",
   "id": "deadly-situation",
   "metadata": {},
   "source": [
    "Visualize the `BMI` and `Outcome` variables."
   ]
  },
  {
   "cell_type": "code",
   "execution_count": null,
   "id": "shaped-washer",
   "metadata": {},
   "outputs": [],
   "source": [
    "plot = sns.boxplot(x=\"Outcome\", y=\"BMI\", data=df, fliersize=4)"
   ]
  },
  {
   "cell_type": "markdown",
   "id": "virtual-perth",
   "metadata": {},
   "source": [
    "### Found Information\n",
    "\n",
    "Examples of conclusions we can make after analyzing and visualizing data:\n",
    "\n",
    "* People with diabetes are highly likely to be older than people who don't.\n",
    "* People with diabetes are more likely to have higher BMI's, or suffer from obesity.\n",
    "* People with diabetes are more likely to have higher glucose levels in their blood.\n",
    "* People with higher glucose levels tend to take more insulin."
   ]
  },
  {
   "cell_type": "code",
   "execution_count": null,
   "id": "romantic-willow",
   "metadata": {},
   "outputs": [],
   "source": []
  }
 ],
 "metadata": {
  "kernelspec": {
   "display_name": "Python 3",
   "language": "python",
   "name": "python3"
  },
  "language_info": {
   "codemirror_mode": {
    "name": "ipython",
    "version": 3
   },
   "file_extension": ".py",
   "mimetype": "text/x-python",
   "name": "python",
   "nbconvert_exporter": "python",
   "pygments_lexer": "ipython3",
   "version": "3.8.5"
  }
 },
 "nbformat": 4,
 "nbformat_minor": 5
}
